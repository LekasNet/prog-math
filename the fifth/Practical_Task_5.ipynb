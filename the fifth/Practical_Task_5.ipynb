{
 "cells": [
  {
   "cell_type": "markdown",
   "id": "9a199777",
   "metadata": {},
   "source": [
    "\n",
    "# Практическое занятие 5: Массивы и визуализация\n",
    "\n",
    "Данный ноутбук содержит решения задач с примерами входных данных и визуализацией.\n",
    "Вы можете запускать ячейки с кодом, чтобы увидеть выполнение каждой задачи.\n",
    "\n",
    "## Список задач\n",
    "\n",
    "1. Рисование спирали\n",
    "2. Построение круговой диаграммы\n",
    "3. Мозаичное изображение\n",
    "4. Мандельбротов фрактал\n",
    "5. Анимация расхождения частиц\n",
    "6. Моделирование планетарной системы\n",
    "7. Построение 3D-графика\n",
    "8. Создание тепловой карты\n",
    "9. Построение сетевого графа\n",
    "10. Визуализация волнового фронта\n"
   ]
  },
  {
   "cell_type": "code",
   "execution_count": 3,
   "id": "9282242b",
   "metadata": {},
   "outputs": [
    {
     "ename": "ModuleNotFoundError",
     "evalue": "No module named 'numpy'",
     "output_type": "error",
     "traceback": [
      "\u001b[1;31m---------------------------------------------------------------------------\u001b[0m",
      "\u001b[1;31mModuleNotFoundError\u001b[0m                       Traceback (most recent call last)",
      "Cell \u001b[1;32mIn[3], line 2\u001b[0m\n\u001b[0;32m      1\u001b[0m \u001b[38;5;66;03m# Задача 1: Рисование спирали\u001b[39;00m\n\u001b[1;32m----> 2\u001b[0m \u001b[38;5;28;01mimport\u001b[39;00m \u001b[38;5;21;01mnumpy\u001b[39;00m \u001b[38;5;28;01mas\u001b[39;00m \u001b[38;5;21;01mnp\u001b[39;00m\n\u001b[0;32m      3\u001b[0m \u001b[38;5;28;01mimport\u001b[39;00m \u001b[38;5;21;01mmatplotlib\u001b[39;00m\u001b[38;5;21;01m.\u001b[39;00m\u001b[38;5;21;01mpyplot\u001b[39;00m \u001b[38;5;28;01mas\u001b[39;00m \u001b[38;5;21;01mplt\u001b[39;00m\n\u001b[0;32m      5\u001b[0m \u001b[38;5;28mprint\u001b[39m(\u001b[38;5;124m\"\u001b[39m\u001b[38;5;124mТестовые данные: Спираль Архимеда\u001b[39m\u001b[38;5;124m\"\u001b[39m)\n",
      "\u001b[1;31mModuleNotFoundError\u001b[0m: No module named 'numpy'"
     ]
    }
   ],
   "source": [
    "# Задача 1: Рисование спирали\n",
    "import numpy as np\n",
    "import matplotlib.pyplot as plt\n",
    "\n",
    "print(\"Тестовые данные: Спираль Архимеда\")\n",
    "theta = np.linspace(0, 4 * np.pi, 1000)\n",
    "a, b = 0.1, 0.1\n",
    "r = a + b * theta\n",
    "x = r * np.cos(theta)\n",
    "y = r * np.sin(theta)\n",
    "plt.figure(figsize=(6, 6))\n",
    "plt.plot(x, y)\n",
    "plt.title(\"Архимедова спираль\")\n",
    "plt.axis('equal')\n",
    "plt.show()"
   ]
  },
  {
   "cell_type": "code",
   "execution_count": null,
   "id": "108d45e8",
   "metadata": {},
   "outputs": [],
   "source": [
    "# Задача 2: Построение круговой диаграммы\n",
    "import matplotlib.pyplot as plt\n",
    "\n",
    "print(\"Тестовые данные: [10, 20, 30, 40]\")\n",
    "data = [10, 20, 30, 40]\n",
    "labels = ['Категория 1', 'Категория 2', 'Категория 3', 'Категория 4']\n",
    "plt.pie(data, labels=labels, autopct='%1.1f%%', startangle=90)\n",
    "plt.title(\"Круговая диаграмма\")\n",
    "plt.show()"
   ]
  },
  {
   "cell_type": "code",
   "execution_count": null,
   "id": "f93535e3",
   "metadata": {},
   "outputs": [],
   "source": [
    "# Задача 3: Мозаичное изображение\n",
    "import matplotlib.pyplot as plt\n",
    "import numpy as np\n",
    "\n",
    "print(\"Тестовые данные: Мозаика 12x12, 6 цветов\")\n",
    "rows, cols = 12, 12\n",
    "colors = np.random.randint(0, 6, (rows, cols))\n",
    "plt.imshow(colors, cmap='tab10', extent=(0, cols, 0, rows))\n",
    "plt.title(\"Мозаичное изображение\")\n",
    "plt.show()"
   ]
  },
  {
   "cell_type": "code",
   "execution_count": null,
   "id": "69153629",
   "metadata": {},
   "outputs": [],
   "source": [
    "# Задача 4: Мандельбротов фрактал\n",
    "import numpy as np\n",
    "import matplotlib.pyplot as plt\n",
    "\n",
    "print(\"Тестовые данные: Разрешение 600x600\")\n",
    "res = 600\n",
    "x = np.linspace(-2, 1, res)\n",
    "y = np.linspace(-1.5, 1.5, res)\n",
    "X, Y = np.meshgrid(x, y)\n",
    "Z = X + 1j * Y\n",
    "C = Z.copy()\n",
    "mandelbrot = np.zeros_like(X, dtype=int)\n",
    "for i in range(100):\n",
    "    Z = Z**2 + C\n",
    "    Z[np.abs(Z) > 2] = 2\n",
    "    mask = (np.abs(Z) < 2) & (mandelbrot == 0)\n",
    "    mandelbrot[mask] = i\n",
    "plt.imshow(mandelbrot, cmap='hot', extent=(-2, 1, -1.5, 1.5))\n",
    "plt.title(\"Фрактал Мандельброта\")\n",
    "plt.colorbar()\n",
    "plt.show()"
   ]
  },
  {
   "cell_type": "code",
   "execution_count": null,
   "id": "02aa1ee2",
   "metadata": {},
   "outputs": [],
   "source": [
    "# Задача 5: Анимация расхождения частиц\n",
    "import matplotlib.pyplot as plt\n",
    "import numpy as np\n",
    "import matplotlib.animation as animation\n",
    "\n",
    "print(\"Тестовые данные: 15 частиц, скорости уменьшаются с удалением\")\n",
    "particles = 15\n",
    "positions = np.zeros((particles, 2))\n",
    "velocities = np.random.uniform(-1, 1, (particles, 2))\n",
    "fig, ax = plt.subplots()\n",
    "scat = ax.scatter(positions[:, 0], positions[:, 1])\n",
    "ax.set_xlim(-10, 10)\n",
    "ax.set_ylim(-10, 10)\n",
    "def update(frame):\n",
    "    global positions\n",
    "    positions += velocities\n",
    "    scat.set_offsets(positions)\n",
    "ani = animation.FuncAnimation(fig, update, frames=100, interval=50)\n",
    "plt.show()"
   ]
  },
  {
   "cell_type": "code",
   "execution_count": null,
   "id": "dcb632e1",
   "metadata": {},
   "outputs": [],
   "source": [
    "# Задача 6: Моделирование планетарной системы\n",
    "import matplotlib.pyplot as plt\n",
    "import numpy as np\n",
    "\n",
    "print(\"Тестовые данные: 4 планеты, с разными массами\")\n",
    "num_planets = 4\n",
    "radii = np.linspace(1, 4, num_planets)\n",
    "angles = np.linspace(0, 2 * np.pi, 500)\n",
    "plt.figure(figsize=(6, 6))\n",
    "for r in radii:\n",
    "    x = r * np.cos(angles)\n",
    "    y = r * np.sin(angles)\n",
    "    plt.plot(x, y)\n",
    "plt.scatter(0, 0, color='yellow', s=300, label='Звезда')\n",
    "plt.title(\"Планетарная система\")\n",
    "plt.axis('equal')\n",
    "plt.legend()\n",
    "plt.show()"
   ]
  },
  {
   "cell_type": "code",
   "execution_count": null,
   "id": "ab9e29e7",
   "metadata": {},
   "outputs": [],
   "source": [
    "# Задача 7: Построение 3D-графика\n",
    "from mpl_toolkits.mplot3d import Axes3D\n",
    "import numpy as np\n",
    "import matplotlib.pyplot as plt\n",
    "\n",
    "print(\"Тестовые данные: z = exp(-x^2 - y^2), x,y [-3, 3]\")\n",
    "x = np.linspace(-3, 3, 50)\n",
    "y = np.linspace(-3, 3, 50)\n",
    "X, Y = np.meshgrid(x, y)\n",
    "Z = np.exp(-X**2 - Y**2)\n",
    "fig = plt.figure()\n",
    "ax = fig.add_subplot(111, projection='3d')\n",
    "ax.plot_surface(X, Y, Z, cmap='viridis')\n",
    "plt.title(\"3D график\")\n",
    "plt.show()"
   ]
  },
  {
   "cell_type": "code",
   "execution_count": null,
   "id": "72c361ee",
   "metadata": {},
   "outputs": [],
   "source": [
    "# Задача 8: Создание тепловой карты\n",
    "import numpy as np\n",
    "import matplotlib.pyplot as plt\n",
    "\n",
    "print(\"Тестовые данные: Регион 20x20, температурный диапазон [-20, 30]\")\n",
    "data = np.random.uniform(-20, 30, (20, 20))\n",
    "plt.imshow(data, cmap='coolwarm', interpolation='nearest')\n",
    "plt.colorbar(label='Температура')\n",
    "plt.title(\"Тепловая карта\")\n",
    "plt.show()"
   ]
  },
  {
   "cell_type": "code",
   "execution_count": null,
   "id": "232de457",
   "metadata": {},
   "outputs": [],
   "source": [
    "# Задача 9: Построение сетевого графа\n",
    "import networkx as nx\n",
    "import matplotlib.pyplot as plt\n",
    "\n",
    "print(\"Тестовые данные: Социальная сеть, 10 узлов\")\n",
    "G = nx.Graph()\n",
    "nodes = range(10)\n",
    "edges = [(i, (i + 1) % 10) for i in nodes]\n",
    "G.add_nodes_from(nodes)\n",
    "G.add_edges_from(edges)\n",
    "nx.draw_circular(G, with_labels=True, node_color='skyblue')\n",
    "plt.title(\"Сетевой граф\")\n",
    "plt.show()"
   ]
  },
  {
   "cell_type": "code",
   "execution_count": null,
   "id": "4cc03dc6",
   "metadata": {},
   "outputs": [],
   "source": [
    "# Задача 10: Визуализация волнового фронта\n",
    "import numpy as np\n",
    "import matplotlib.pyplot as plt\n",
    "import matplotlib.animation as animation\n",
    "\n",
    "print(\"Тестовые данные: 3D волна, фронт распространяется спирально\")\n",
    "x = np.linspace(0, 4 * np.pi, 500)\n",
    "y = np.sin(x)\n",
    "fig, ax = plt.subplots()\n",
    "line, = ax.plot(x, y)\n",
    "def update(frame):\n",
    "    line.set_ydata(np.sin(x + frame / 10.0))\n",
    "ani = animation.FuncAnimation(fig, update, frames=100, interval=50)\n",
    "plt.title(\"Волновой фронт\")\n",
    "plt.show()"
   ]
  }
 ],
 "metadata": {
  "kernelspec": {
   "display_name": "Python 3",
   "language": "python",
   "name": "python3"
  },
  "language_info": {
   "codemirror_mode": {
    "name": "ipython",
    "version": 3
   },
   "file_extension": ".py",
   "mimetype": "text/x-python",
   "name": "python",
   "nbconvert_exporter": "python",
   "pygments_lexer": "ipython3",
   "version": "3.12.8"
  }
 },
 "nbformat": 4,
 "nbformat_minor": 5
}
